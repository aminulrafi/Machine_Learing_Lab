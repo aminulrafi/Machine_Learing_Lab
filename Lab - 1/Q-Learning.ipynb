{
 "cells": [
  {
   "cell_type": "code",
   "execution_count": 1,
   "id": "405560f5",
   "metadata": {},
   "outputs": [],
   "source": [
    "# Import Numpy.\n",
    "import numpy as np"
   ]
  },
  {
   "cell_type": "code",
   "execution_count": 3,
   "id": "916b70ab",
   "metadata": {},
   "outputs": [],
   "source": [
    "# Initialize parameter.\n",
    "gamma = 0.75 # Discount factor.\n",
    "alpha = 0.9 # Learning rate."
   ]
  },
  {
   "cell_type": "code",
   "execution_count": 6,
   "id": "3f7402b4",
   "metadata": {},
   "outputs": [],
   "source": [
    "# Define the state and map it to number.\n",
    "location_to_state = {\n",
    "    'L1' : 0,\n",
    "    'L2' : 1,\n",
    "    'L3' : 2,\n",
    "    'L4' : 3,\n",
    "    'L5' : 4,\n",
    "    'L6' : 5,\n",
    "    'L7' : 6,\n",
    "    'L8' : 7,\n",
    "    'L9' : 8\n",
    "}"
   ]
  },
  {
   "cell_type": "code",
   "execution_count": 8,
   "id": "33e8cc67",
   "metadata": {},
   "outputs": [
    {
     "data": {
      "text/plain": [
       "{0, 1, 2, 3, 4, 5, 6, 7, 8}"
      ]
     },
     "execution_count": 8,
     "metadata": {},
     "output_type": "execute_result"
    }
   ],
   "source": [
    "# Define the action.\n",
    "action = {0,1,2,3,4,5,6,7,8}"
   ]
  },
  {
   "cell_type": "code",
   "execution_count": 5,
   "id": "3c3d184a",
   "metadata": {},
   "outputs": [],
   "source": [
    "# Define the reward table.\n",
    "rewareds = np.array([[0,1,0,0,0,0,0,0,0],\n",
    "                     [1,0,1,0,0,0,0,0,0],\n",
    "                     [0,1,0,0,0,1,0,0,0],\n",
    "                     [0,0,0,0,0,0,1,0,0],\n",
    "                     [0,1,0,0,0,0,0,1,0],\n",
    "                     [0,0,1,0,0,0,0,0,0],\n",
    "                     [0,0,0,1,0,0,0,1,0],\n",
    "                     [0,0,0,0,1,0,1,0,1],\n",
    "                     [0,0,0,0,0,0,0,1,0]\n",
    "                    ]) "
   ]
  },
  {
   "cell_type": "code",
   "execution_count": 6,
   "id": "ad9ecdb8",
   "metadata": {},
   "outputs": [],
   "source": [
    "# Map the indices to location.\n",
    "state_to_location = dict((state,location) for location,state in location_to_state.items())"
   ]
  },
  {
   "cell_type": "code",
   "execution_count": 7,
   "id": "aea0c987",
   "metadata": {},
   "outputs": [],
   "source": [
    "def get_optimal_route(startNode,endNode):\n",
    "    \n",
    "    # Copy the reward matrix.\n",
    "    rewareds_new = np.copy(rewareds)\n",
    "    \n",
    "    # Get the ending state corresponding to the ending location is given.\n",
    "    ending_state = location_to_state[endNode]\n",
    "    \n",
    "    # With the above information automatically set the priority of given \n",
    "    # Ending state to the highest one.\n",
    "    rewareds_new[ending_state,ending_state] = 999\n",
    "    \n",
    "    \n",
    "    #================ Q-Learning Algorithm ======================#\n",
    "    \n",
    "    # Initialize the queue value.\n",
    "    Q = np.array(np.zeros([9,9]))\n",
    "    \n",
    "    # Q-Learning Process.\n",
    "    for i in range(1000):\n",
    "        # Pick up an state randomly.\n",
    "        current_state = np.random.randint(0,9)\n",
    "        \n",
    "        # Traversing the neighbour location of the environment.\n",
    "        valid_action = []\n",
    "        \n",
    "        # Iterate throught the new rewards matrix and get the action getter than zero.\n",
    "        \n",
    "        for j in range(9):\n",
    "            if rewareds_new[current_state,j] > 0:\n",
    "                valid_action.append(j)\n",
    "        \n",
    "        # Pick an action randomly from the list of the valid action.\n",
    "        next_state = np.random.choice(valid_action);\n",
    "        \n",
    "        # Finding the temporal difference.\n",
    "        TD = rewareds_new[current_state,next_state] + gamma* Q[next_state,np.argmax(Q[next_state,])] - Q[current_state,next_state]\n",
    "        \n",
    "        # Update the queue value using Bellman-Equation.\n",
    "        Q[current_state,next_state] += alpha * TD\n",
    "    \n",
    "    # Initialize the optimal route with start location.\n",
    "    route = [startNode]\n",
    "    # We don't know about the next location yet so initialize with the value of start location.\n",
    "    next_location = startNode;\n",
    "    \n",
    "    while(next_location != endNode):\n",
    "        # Fetching the starting state.\n",
    "        starting_state = location_to_state[startNode]\n",
    "        \n",
    "        # Fetch the highest queue value pretending to the starting node.\n",
    "        next_state = np.argmax(Q[starting_state,])\n",
    "        \n",
    "        # We get the index of next of the next state we need the corresponding letter.\n",
    "        next_location = state_to_location[next_state]\n",
    "        route.append(next_location)\n",
    "        \n",
    "        # Update the starting index for next iteration.\n",
    "        startNode = next_location\n",
    "    return route"
   ]
  },
  {
   "cell_type": "code",
   "execution_count": 8,
   "id": "025b1e74",
   "metadata": {},
   "outputs": [
    {
     "name": "stdout",
     "output_type": "stream",
     "text": [
      "['L5', 'L2', 'L1']\n"
     ]
    }
   ],
   "source": [
    "print(get_optimal_route(\"L5\",\"L1\"))"
   ]
  }
 ],
 "metadata": {
  "kernelspec": {
   "display_name": "Python 3 (ipykernel)",
   "language": "python",
   "name": "python3"
  },
  "language_info": {
   "codemirror_mode": {
    "name": "ipython",
    "version": 3
   },
   "file_extension": ".py",
   "mimetype": "text/x-python",
   "name": "python",
   "nbconvert_exporter": "python",
   "pygments_lexer": "ipython3",
   "version": "3.11.5"
  }
 },
 "nbformat": 4,
 "nbformat_minor": 5
}
