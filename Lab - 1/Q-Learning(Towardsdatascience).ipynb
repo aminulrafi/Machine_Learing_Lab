{
 "cells": [
  {
   "cell_type": "code",
   "execution_count": 218,
   "id": "7a74c0e8-576d-4499-bd0b-0da40359132c",
   "metadata": {},
   "outputs": [],
   "source": [
    "import numpy as np"
   ]
  },
  {
   "cell_type": "code",
   "execution_count": 219,
   "id": "c7d20e06-e77d-4dd2-a3ba-67182a8956ff",
   "metadata": {},
   "outputs": [],
   "source": [
    "# Rewards matrix.\n",
    "R = np.matrix([\n",
    "    [-1,-1,-1,-1,0,-1],\n",
    "    [-1,-1,-1,0,-1,100],\n",
    "    [-1,-1,-1,0,-1,-1],\n",
    "    [-1,0,0,-1,0,-1],\n",
    "    [-1,0,0,-1,-1,100],\n",
    "    [-1,0,-1,-1,0,100]\n",
    "])"
   ]
  },
  {
   "cell_type": "code",
   "execution_count": 220,
   "id": "9f860d35-3a67-47b4-90e7-52eb2c568b8b",
   "metadata": {},
   "outputs": [
    {
     "name": "stdout",
     "output_type": "stream",
     "text": [
      "[[ -1  -1  -1  -1   0  -1]\n",
      " [ -1  -1  -1   0  -1 100]\n",
      " [ -1  -1  -1   0  -1  -1]\n",
      " [ -1   0   0  -1   0  -1]\n",
      " [ -1   0   0  -1  -1 100]\n",
      " [ -1   0  -1  -1   0 100]]\n"
     ]
    }
   ],
   "source": [
    "print(R)"
   ]
  },
  {
   "cell_type": "code",
   "execution_count": 221,
   "id": "a1f947a2-d2fa-4d19-87f6-850d3ae50d46",
   "metadata": {},
   "outputs": [],
   "source": [
    "# Initialize the Q- Matrix.\n",
    "Q = np.matrix(np.zeros([6,6]))"
   ]
  },
  {
   "cell_type": "code",
   "execution_count": 222,
   "id": "b175bfeb-3cc0-4582-b209-f7018624ea83",
   "metadata": {},
   "outputs": [
    {
     "name": "stdout",
     "output_type": "stream",
     "text": [
      "[[0. 0. 0. 0. 0. 0.]\n",
      " [0. 0. 0. 0. 0. 0.]\n",
      " [0. 0. 0. 0. 0. 0.]\n",
      " [0. 0. 0. 0. 0. 0.]\n",
      " [0. 0. 0. 0. 0. 0.]\n",
      " [0. 0. 0. 0. 0. 0.]]\n"
     ]
    }
   ],
   "source": [
    "print(Q)"
   ]
  },
  {
   "cell_type": "code",
   "execution_count": 223,
   "id": "ac509f38-445b-414c-ad36-fbee88e67ecd",
   "metadata": {},
   "outputs": [],
   "source": [
    "# Initialize the learning rate.\n",
    "gamma = 0.8"
   ]
  },
  {
   "cell_type": "code",
   "execution_count": 224,
   "id": "83e926fc-b6e5-4efc-83b7-19be8cb28d09",
   "metadata": {},
   "outputs": [],
   "source": [
    "# Initial state.\n",
    "initial_state = 3"
   ]
  },
  {
   "cell_type": "code",
   "execution_count": 225,
   "id": "0f7d41bf-f873-4e58-b275-a8a9b9459988",
   "metadata": {},
   "outputs": [],
   "source": [
    "# Function to return all the avaiable action in given state.\n",
    "def avaiable_actions(state):\n",
    "    current_state_row = R[state]\n",
    "    av_act = np.where(current_state_row >= 0)[1]\n",
    "    return av_act"
   ]
  },
  {
   "cell_type": "code",
   "execution_count": 226,
   "id": "ea2d7f85-3bed-4f0b-9a7b-621f87f045c2",
   "metadata": {},
   "outputs": [],
   "source": [
    "# Function which randomly choose an state from available one.\n",
    "def sample_next_action(available_action):\n",
    "    next_action = int(np.random.choice(available_action,1))\n",
    "    return next_action"
   ]
  },
  {
   "cell_type": "code",
   "execution_count": 227,
   "id": "55ed2067-ec6b-4e96-a8a6-f9d69ebeba37",
   "metadata": {},
   "outputs": [],
   "source": [
    "def update(current_state,action,gamma):\n",
    "    max_index = np.where(Q[action]==np.max(Q[action]))[1]\n",
    "    if max_index.shape[0] > 1:\n",
    "        max_index = int(np.random.choice(max_index,1))\n",
    "    else:\n",
    "        max_index = int(max_index)\n",
    "    \n",
    "    max_value = Q[action,max_index]\n",
    "\n",
    "    # Apply the Q-Learning Formulla.\n",
    "    Q[current_state,action] = R[current_state,action] + gamma * max_value"
   ]
  },
  {
   "cell_type": "code",
   "execution_count": 228,
   "id": "6642b9cb",
   "metadata": {},
   "outputs": [],
   "source": [
    "# Train for 10000 times.\n",
    "for i in range(10000):\n",
    "    current_state = np.random.randint(0,int(Q.shape[0]))\n",
    "    available_act = avaiable_actions(current_state)\n",
    "    action = sample_next_action(available_act)\n",
    "    update(current_state,action,gamma)"
   ]
  },
  {
   "cell_type": "code",
   "execution_count": 230,
   "id": "76f3407b",
   "metadata": {},
   "outputs": [
    {
     "name": "stdout",
     "output_type": "stream",
     "text": [
      "[[  0.   0.   0.   0. 400.   0.]\n",
      " [  0.   0.   0. 320.   0. 500.]\n",
      " [  0.   0.   0. 320.   0.   0.]\n",
      " [  0. 400. 256.   0. 400.   0.]\n",
      " [  0. 400. 256.   0.   0. 500.]\n",
      " [  0. 400.   0.   0. 400. 500.]]\n"
     ]
    }
   ],
   "source": [
    "# After updation now the Q table look like this.\n",
    "print(Q)"
   ]
  },
  {
   "cell_type": "code",
   "execution_count": 231,
   "id": "2b9bfe24",
   "metadata": {},
   "outputs": [],
   "source": [
    "# Find a path.\n",
    "current_state = 2\n",
    "goal_state = 5\n",
    "steps = [current_state]"
   ]
  },
  {
   "cell_type": "code",
   "execution_count": 238,
   "id": "389c100f",
   "metadata": {},
   "outputs": [
    {
     "name": "stdout",
     "output_type": "stream",
     "text": [
      "Path : [2, 3, 1, 5]\n"
     ]
    }
   ],
   "source": [
    "while  current_state != goal_state:\n",
    "    next_step_index = np.where(Q[current_state]==np.max(Q[current_state]))[1]\n",
    "    if next_step_index.shape[0] > 1:\n",
    "        next_step_index = int(np.random.choice(next_step_index,1))\n",
    "    else:\n",
    "        next_step_index = int(next_step_index)\n",
    "    steps.append(next_step_index)\n",
    "    current_state = next_step_index\n",
    "\n",
    "print(\"Path :\",steps)"
   ]
  },
  {
   "cell_type": "code",
   "execution_count": 240,
   "id": "952fb859",
   "metadata": {},
   "outputs": [
    {
     "name": "stderr",
     "output_type": "stream",
     "text": [
      "usage: jupyter [-h] [--version] [--config-dir] [--data-dir] [--runtime-dir]\n",
      "               [--paths] [--json] [--debug]\n",
      "               [subcommand]\n",
      "\n",
      "Jupyter: Interactive Computing\n",
      "\n",
      "positional arguments:\n",
      "  subcommand     the subcommand to launch\n",
      "\n",
      "options:\n",
      "  -h, --help     show this help message and exit\n",
      "  --version      show the versions of core jupyter packages and exit\n",
      "  --config-dir   show Jupyter config dir\n",
      "  --data-dir     show Jupyter data dir\n",
      "  --runtime-dir  show Jupyter runtime dir\n",
      "  --paths        show all Jupyter paths. Add --json for machine-readable\n",
      "                 format.\n",
      "  --json         output paths as machine-readable json\n",
      "  --debug        output debug information about paths\n",
      "\n",
      "Available subcommands: bundlerextension console dejavu events execute fileid\n",
      "kernel kernelspec lab labextension labhub migrate nbclassic nbconvert\n",
      "nbextension notebook qtconsole run script server serverextension troubleshoot\n",
      "trust\n",
      "\n",
      "Jupyter command `jupyter-nbextensions_configurator` not found.\n"
     ]
    }
   ],
   "source": [
    "! jupyter nbextensions_configurator disable"
   ]
  }
 ],
 "metadata": {
  "kernelspec": {
   "display_name": "Python 3 (ipykernel)",
   "language": "python",
   "name": "python3"
  },
  "language_info": {
   "codemirror_mode": {
    "name": "ipython",
    "version": 3
   },
   "file_extension": ".py",
   "mimetype": "text/x-python",
   "name": "python",
   "nbconvert_exporter": "python",
   "pygments_lexer": "ipython3",
   "version": "3.11.4"
  }
 },
 "nbformat": 4,
 "nbformat_minor": 5
}
